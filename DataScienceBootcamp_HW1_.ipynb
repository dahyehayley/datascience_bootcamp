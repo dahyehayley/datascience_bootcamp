{
  "nbformat": 4,
  "nbformat_minor": 0,
  "metadata": {
    "colab": {
      "provenance": []
    },
    "kernelspec": {
      "name": "python3",
      "display_name": "Python 3"
    },
    "language_info": {
      "name": "python"
    }
  },
  "cells": [
    {
      "cell_type": "markdown",
      "source": [
        "**Take home exercises**\n",
        "\n",
        "Write a function count_vowels(word) that takes a word as an argument and returns the number of vowels in the word\n",
        "Iterate through the following list of animals and print each one in all caps.\n",
        "animals=['tiger', 'elephant', 'monkey', 'zebra', 'panther']\n",
        "\n",
        "Write a program that iterates from 1 to 20, printing each number and whether it's odd or even.\n",
        "Write a function sum_of_integers(a, b) that takes two integers as input from the user and returns their sum.**bold text**"
      ],
      "metadata": {
        "id": "vkyLcwxBapKA"
      }
    },
    {
      "cell_type": "markdown",
      "source": [
        "1. Write a function  count_vowels(word) that takes a word as an argument and returns the number of vowels in the word\n",
        "2. Iterate through the following list of animals and print each one in all caps.\n",
        "\n",
        "  animals=['tiger', 'elephant', 'monkey', 'zebra', 'panther']\n",
        "\n",
        "3. Write a program that iterates from 1 to 20, printing each number and whether it's odd or even.\n",
        "4. Write a function sum_of_integers(a, b) that takes two integers as input from the user and returns their sum."
      ],
      "metadata": {
        "id": "k7YXKjkBeYmn"
      }
    },
    {
      "cell_type": "code",
      "source": [
        "def count_vowels(word):\n",
        "  vowels = set(\"aeiou\")\n",
        "  cnt = 0\n",
        "  for char in word.lower():\n",
        "      if char in vowels:\n",
        "          cnt += 1\n",
        "  return cnt\n",
        "\n",
        "count_vowels('animal')"
      ],
      "metadata": {
        "colab": {
          "base_uri": "https://localhost:8080/"
        },
        "id": "YE7C7np6eWIH",
        "outputId": "600822f7-2cb8-402a-929b-86eda9a0349d"
      },
      "execution_count": 21,
      "outputs": [
        {
          "output_type": "execute_result",
          "data": {
            "text/plain": [
              "3"
            ]
          },
          "metadata": {},
          "execution_count": 21
        }
      ]
    },
    {
      "cell_type": "code",
      "source": [
        "animals=['tiger', 'elephant', 'monkey', 'zebra', 'panther']\n",
        "for animal in animals:\n",
        "  print(animal.upper())"
      ],
      "metadata": {
        "colab": {
          "base_uri": "https://localhost:8080/"
        },
        "id": "WPEM_98re3xZ",
        "outputId": "6d3dc9f1-aad6-409d-f725-73d55f1ae314"
      },
      "execution_count": 18,
      "outputs": [
        {
          "output_type": "stream",
          "name": "stdout",
          "text": [
            "TIGER\n",
            "ELEPHANT\n",
            "MONKEY\n",
            "ZEBRA\n",
            "PANTHER\n"
          ]
        }
      ]
    },
    {
      "cell_type": "code",
      "source": [
        "for i in range(1, 21):\n",
        "  if i%2 == 0:\n",
        "    print(f'{i} is even.')\n",
        "  else:\n",
        "    print(f'{i} is odd.')"
      ],
      "metadata": {
        "colab": {
          "base_uri": "https://localhost:8080/"
        },
        "id": "EfKOZrT1fAND",
        "outputId": "1e8f25f6-17d2-4307-9f93-d97ea556c0db"
      },
      "execution_count": 19,
      "outputs": [
        {
          "output_type": "stream",
          "name": "stdout",
          "text": [
            "1 is odd.\n",
            "2 is even.\n",
            "3 is odd.\n",
            "4 is even.\n",
            "5 is odd.\n",
            "6 is even.\n",
            "7 is odd.\n",
            "8 is even.\n",
            "9 is odd.\n",
            "10 is even.\n",
            "11 is odd.\n",
            "12 is even.\n",
            "13 is odd.\n",
            "14 is even.\n",
            "15 is odd.\n",
            "16 is even.\n",
            "17 is odd.\n",
            "18 is even.\n",
            "19 is odd.\n",
            "20 is even.\n"
          ]
        }
      ]
    },
    {
      "cell_type": "code",
      "source": [
        "def sum_of_integers(a, b):\n",
        "  return a + b\n",
        "sum_of_integers(1, 7)"
      ],
      "metadata": {
        "colab": {
          "base_uri": "https://localhost:8080/"
        },
        "id": "zh_YU4N8fO8x",
        "outputId": "91b779a4-a3c9-4e88-df2f-b669bc45a052"
      },
      "execution_count": 20,
      "outputs": [
        {
          "output_type": "execute_result",
          "data": {
            "text/plain": [
              "8"
            ]
          },
          "metadata": {},
          "execution_count": 20
        }
      ]
    },
    {
      "cell_type": "markdown",
      "source": [
        "**Additional Challenge - Books data challenge**"
      ],
      "metadata": {
        "id": "b7R9W-WYa9fD"
      }
    },
    {
      "cell_type": "code",
      "execution_count": 1,
      "metadata": {
        "id": "zOYilqUYanHH"
      },
      "outputs": [],
      "source": [
        "books = [\n",
        "    {\n",
        "        \"title\": \"The Great Gatsby\",\n",
        "        \"author\": \"F. Scott Fitzgerald\",\n",
        "        \"genre\": \"Fiction\",\n",
        "        \"rating\": 4.2\n",
        "    },\n",
        "    {\n",
        "        \"title\": \"To Kill a Mockingbird\",\n",
        "        \"author\": \"Harper Lee\",\n",
        "        \"genre\": \"Classic\",\n",
        "        \"rating\": 4.5\n",
        "    },\n",
        "    {\n",
        "        \"title\": \"1984\",\n",
        "        \"author\": \"George Orwell\",\n",
        "        \"genre\": \"Dystopian\",\n",
        "        \"rating\": 4.8\n",
        "    },\n",
        "    {\n",
        "        \"title\": \"Pride and Prejudice\",\n",
        "        \"author\": \"Jane Austen\",\n",
        "        \"genre\": \"Romance\",\n",
        "        \"rating\": 4.7\n",
        "    },\n",
        "    {\n",
        "        \"title\": \"Harry Potter and the Sorcerer's Stone\",\n",
        "        \"author\": \"J.K. Rowling\",\n",
        "        \"genre\": \"Fantasy\",\n",
        "        \"rating\": 4.9\n",
        "    },\n",
        "    {\n",
        "        \"title\": \"The Catcher in the Rye\",\n",
        "        \"author\": \"J.D. Salinger\",\n",
        "        \"genre\": \"Coming-of-age\",\n",
        "        \"rating\": 4.1\n",
        "    }\n",
        "]"
      ]
    },
    {
      "cell_type": "markdown",
      "source": [
        "1.Checking Book Ratings\n",
        "\n",
        "Write a function check_rating(book) that takes a book dictionary and returns True if the rating is greater than 4.5, and False otherwise. Additionally, modify the function to return 'low' if the rating is less than or equal to 4.0, 'medium' if it's greater than 4.0 but less than or equal to 4.5, and 'high' if it's greater than 4.5."
      ],
      "metadata": {
        "id": "IkdeA93LbDPw"
      }
    },
    {
      "cell_type": "code",
      "source": [
        "def check_rating(book):\n",
        "  if book[\"rating\"] > 4.5:\n",
        "    return True\n",
        "  return False"
      ],
      "metadata": {
        "id": "ZunOX2N0bFAy"
      },
      "execution_count": 3,
      "outputs": []
    },
    {
      "cell_type": "code",
      "source": [
        "rating = check_rating(books[0])\n",
        "title = books[0][\"title\"]\n",
        "print(f'Simple version - the result of checking rating of {title}: {rating}')"
      ],
      "metadata": {
        "colab": {
          "base_uri": "https://localhost:8080/"
        },
        "id": "l8ui5W1ZdDBn",
        "outputId": "aa3564ed-226f-4ae8-c85d-7e9fa1106129"
      },
      "execution_count": 7,
      "outputs": [
        {
          "output_type": "stream",
          "name": "stdout",
          "text": [
            "Simple version - the result of checking rating of The Great Gatsby: False\n"
          ]
        }
      ]
    },
    {
      "cell_type": "code",
      "source": [
        "def check_rating_modified(book):\n",
        "  if book[\"rating\"] <= 4.0:\n",
        "    return 'low'\n",
        "  elif book[\"rating\"] > 4.0 and book[\"rating\"] <= 4.5:\n",
        "    return 'medium'\n",
        "  else:\n",
        "    return 'high'"
      ],
      "metadata": {
        "id": "cW2wkuDVbj2e"
      },
      "execution_count": 8,
      "outputs": []
    },
    {
      "cell_type": "code",
      "source": [
        "rating = check_rating_modified(books[0])\n",
        "title = books[0][\"title\"]\n",
        "print(f'Modified Version - the result of checking rating of {title}: {rating}')"
      ],
      "metadata": {
        "colab": {
          "base_uri": "https://localhost:8080/"
        },
        "id": "cKlNsQIAdbSc",
        "outputId": "33d7ffca-12db-4067-8f57-87404529c874"
      },
      "execution_count": 9,
      "outputs": [
        {
          "output_type": "stream",
          "name": "stdout",
          "text": [
            "Modified Version - the result of checking rating of The Great Gatsby: medium\n"
          ]
        }
      ]
    },
    {
      "cell_type": "markdown",
      "source": [
        "2.Average Rating by Genre\n",
        "\n",
        "Write a function average_rating_by_genre(books, genre) that accepts the list of books and a genre, and returns the average rating for that genre. If the genre does not exist in the list, return an appropriate message."
      ],
      "metadata": {
        "id": "Bp3UkKYYb6rc"
      }
    },
    {
      "cell_type": "code",
      "source": [
        "def average_rating_by_genre(books, genre):\n",
        "  ratings = []\n",
        "  for book in books:\n",
        "    if book[\"genre\"] == genre:\n",
        "      ratings.append(book[\"rating\"])\n",
        "  if ratings:\n",
        "    return sum(ratings) / len(ratings)\n",
        "  else:\n",
        "    return 'The genre does not exist in the list'"
      ],
      "metadata": {
        "id": "9ZIwyzdHb8EQ"
      },
      "execution_count": 10,
      "outputs": []
    },
    {
      "cell_type": "code",
      "source": [
        "average_rating_by_genre(books, 'Romance')"
      ],
      "metadata": {
        "colab": {
          "base_uri": "https://localhost:8080/"
        },
        "id": "rVx6kMLadn4L",
        "outputId": "086ae3ee-5220-4564-89bb-57a5fc94df82"
      },
      "execution_count": 11,
      "outputs": [
        {
          "output_type": "execute_result",
          "data": {
            "text/plain": [
              "4.7"
            ]
          },
          "metadata": {},
          "execution_count": 11
        }
      ]
    },
    {
      "cell_type": "markdown",
      "source": [
        "3.Books by Author\n",
        "\n",
        "Write a function books_by_author(books, author) that accepts the book list and an author's name, and returns a list of all the books written by that author. If the author does not exist, raise a custom error."
      ],
      "metadata": {
        "id": "guWlJc6jb8UF"
      }
    },
    {
      "cell_type": "code",
      "source": [
        "def books_by_author(books, author):\n",
        "  lst = []\n",
        "  for book in books:\n",
        "    if book['author'] == author:\n",
        "      lst.append(book)\n",
        "  if lst:\n",
        "    return lst\n",
        "  else:\n",
        "    return 'The author does not exist in the list'"
      ],
      "metadata": {
        "id": "AqS-I7Wqc2L_"
      },
      "execution_count": 14,
      "outputs": []
    },
    {
      "cell_type": "code",
      "source": [
        "books_by_author(books, 'Harper Lee')"
      ],
      "metadata": {
        "colab": {
          "base_uri": "https://localhost:8080/"
        },
        "id": "JuHKGtcseIXU",
        "outputId": "29357dfc-b1d8-4f27-ca33-aa98ad5613cf"
      },
      "execution_count": 15,
      "outputs": [
        {
          "output_type": "execute_result",
          "data": {
            "text/plain": [
              "[{'title': 'To Kill a Mockingbird',\n",
              "  'author': 'Harper Lee',\n",
              "  'genre': 'Classic',\n",
              "  'rating': 4.5}]"
            ]
          },
          "metadata": {},
          "execution_count": 15
        }
      ]
    }
  ]
}